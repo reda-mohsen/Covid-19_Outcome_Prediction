{
 "cells": [
  {
   "cell_type": "markdown",
   "id": "24168f77",
   "metadata": {},
   "source": [
    "# Covid-19_Outcome-Prediction"
   ]
  },
  {
   "cell_type": "markdown",
   "id": "d7e7da2b",
   "metadata": {},
   "source": [
    "## Import the Libraries"
   ]
  },
  {
   "cell_type": "code",
   "execution_count": 87,
   "id": "6fc9ef19",
   "metadata": {},
   "outputs": [],
   "source": [
    "#import libraries\n",
    "import pandas as pd\n",
    "import numpy as np\n",
    "import seaborn as sns\n",
    "from sklearn.feature_selection import mutual_info_classif\n",
    "import matplotlib\n",
    "import matplotlib.pyplot as plt\n",
    "%matplotlib inline"
   ]
  },
  {
   "cell_type": "code",
   "execution_count": 88,
   "id": "322ee297",
   "metadata": {},
   "outputs": [
    {
     "data": {
      "text/html": [
       "<div>\n",
       "<style scoped>\n",
       "    .dataframe tbody tr th:only-of-type {\n",
       "        vertical-align: middle;\n",
       "    }\n",
       "\n",
       "    .dataframe tbody tr th {\n",
       "        vertical-align: top;\n",
       "    }\n",
       "\n",
       "    .dataframe thead th {\n",
       "        text-align: right;\n",
       "    }\n",
       "</style>\n",
       "<table border=\"1\" class=\"dataframe\">\n",
       "  <thead>\n",
       "    <tr style=\"text-align: right;\">\n",
       "      <th></th>\n",
       "      <th>location</th>\n",
       "      <th>country</th>\n",
       "      <th>gender</th>\n",
       "      <th>age</th>\n",
       "      <th>vis_wuhan</th>\n",
       "      <th>from_wuhan</th>\n",
       "      <th>symptom1</th>\n",
       "      <th>symptom2</th>\n",
       "      <th>symptom3</th>\n",
       "      <th>symptom4</th>\n",
       "      <th>symptom5</th>\n",
       "      <th>symptom6</th>\n",
       "      <th>diff_sym_hos</th>\n",
       "      <th>result</th>\n",
       "    </tr>\n",
       "  </thead>\n",
       "  <tbody>\n",
       "    <tr>\n",
       "      <th>0</th>\n",
       "      <td>104</td>\n",
       "      <td>8</td>\n",
       "      <td>1</td>\n",
       "      <td>66.0</td>\n",
       "      <td>1</td>\n",
       "      <td>0</td>\n",
       "      <td>14</td>\n",
       "      <td>31</td>\n",
       "      <td>19</td>\n",
       "      <td>12</td>\n",
       "      <td>3</td>\n",
       "      <td>1</td>\n",
       "      <td>8</td>\n",
       "      <td>1</td>\n",
       "    </tr>\n",
       "    <tr>\n",
       "      <th>1</th>\n",
       "      <td>101</td>\n",
       "      <td>8</td>\n",
       "      <td>0</td>\n",
       "      <td>56.0</td>\n",
       "      <td>0</td>\n",
       "      <td>1</td>\n",
       "      <td>14</td>\n",
       "      <td>31</td>\n",
       "      <td>19</td>\n",
       "      <td>12</td>\n",
       "      <td>3</td>\n",
       "      <td>1</td>\n",
       "      <td>0</td>\n",
       "      <td>0</td>\n",
       "    </tr>\n",
       "    <tr>\n",
       "      <th>2</th>\n",
       "      <td>137</td>\n",
       "      <td>8</td>\n",
       "      <td>1</td>\n",
       "      <td>46.0</td>\n",
       "      <td>0</td>\n",
       "      <td>1</td>\n",
       "      <td>14</td>\n",
       "      <td>31</td>\n",
       "      <td>19</td>\n",
       "      <td>12</td>\n",
       "      <td>3</td>\n",
       "      <td>1</td>\n",
       "      <td>13</td>\n",
       "      <td>0</td>\n",
       "    </tr>\n",
       "    <tr>\n",
       "      <th>3</th>\n",
       "      <td>116</td>\n",
       "      <td>8</td>\n",
       "      <td>0</td>\n",
       "      <td>60.0</td>\n",
       "      <td>1</td>\n",
       "      <td>0</td>\n",
       "      <td>14</td>\n",
       "      <td>31</td>\n",
       "      <td>19</td>\n",
       "      <td>12</td>\n",
       "      <td>3</td>\n",
       "      <td>1</td>\n",
       "      <td>0</td>\n",
       "      <td>0</td>\n",
       "    </tr>\n",
       "    <tr>\n",
       "      <th>4</th>\n",
       "      <td>116</td>\n",
       "      <td>8</td>\n",
       "      <td>1</td>\n",
       "      <td>58.0</td>\n",
       "      <td>0</td>\n",
       "      <td>0</td>\n",
       "      <td>14</td>\n",
       "      <td>31</td>\n",
       "      <td>19</td>\n",
       "      <td>12</td>\n",
       "      <td>3</td>\n",
       "      <td>1</td>\n",
       "      <td>0</td>\n",
       "      <td>0</td>\n",
       "    </tr>\n",
       "    <tr>\n",
       "      <th>5</th>\n",
       "      <td>23</td>\n",
       "      <td>8</td>\n",
       "      <td>0</td>\n",
       "      <td>44.0</td>\n",
       "      <td>0</td>\n",
       "      <td>1</td>\n",
       "      <td>14</td>\n",
       "      <td>31</td>\n",
       "      <td>19</td>\n",
       "      <td>12</td>\n",
       "      <td>3</td>\n",
       "      <td>1</td>\n",
       "      <td>0</td>\n",
       "      <td>0</td>\n",
       "    </tr>\n",
       "  </tbody>\n",
       "</table>\n",
       "</div>"
      ],
      "text/plain": [
       "   location  country  gender   age  vis_wuhan  from_wuhan  symptom1  symptom2  \\\n",
       "0       104        8       1  66.0          1           0        14        31   \n",
       "1       101        8       0  56.0          0           1        14        31   \n",
       "2       137        8       1  46.0          0           1        14        31   \n",
       "3       116        8       0  60.0          1           0        14        31   \n",
       "4       116        8       1  58.0          0           0        14        31   \n",
       "5        23        8       0  44.0          0           1        14        31   \n",
       "\n",
       "   symptom3  symptom4  symptom5  symptom6  diff_sym_hos  result  \n",
       "0        19        12         3         1             8       1  \n",
       "1        19        12         3         1             0       0  \n",
       "2        19        12         3         1            13       0  \n",
       "3        19        12         3         1             0       0  \n",
       "4        19        12         3         1             0       0  \n",
       "5        19        12         3         1             0       0  "
      ]
     },
     "execution_count": 88,
     "metadata": {},
     "output_type": "execute_result"
    }
   ],
   "source": [
    "# read the dataset\n",
    "df = pd.read_csv('data.csv',index_col=[0])\n",
    "df.head(6)"
   ]
  },
  {
   "cell_type": "code",
   "execution_count": 89,
   "id": "192813d6",
   "metadata": {},
   "outputs": [
    {
     "data": {
      "text/plain": [
       "(863, 14)"
      ]
     },
     "execution_count": 89,
     "metadata": {},
     "output_type": "execute_result"
    }
   ],
   "source": [
    "# get the dimensions of the dataset\n",
    "df.shape"
   ]
  },
  {
   "cell_type": "code",
   "execution_count": 90,
   "id": "52b64198",
   "metadata": {},
   "outputs": [
    {
     "data": {
      "text/plain": [
       "location          int64\n",
       "country           int64\n",
       "gender            int64\n",
       "age             float64\n",
       "vis_wuhan         int64\n",
       "from_wuhan        int64\n",
       "symptom1          int64\n",
       "symptom2          int64\n",
       "symptom3          int64\n",
       "symptom4          int64\n",
       "symptom5          int64\n",
       "symptom6          int64\n",
       "diff_sym_hos      int64\n",
       "result            int64\n",
       "dtype: object"
      ]
     },
     "execution_count": 90,
     "metadata": {},
     "output_type": "execute_result"
    }
   ],
   "source": [
    "# find the data types of the attributes\n",
    "df.dtypes"
   ]
  },
  {
   "cell_type": "code",
   "execution_count": 91,
   "id": "6d821e06",
   "metadata": {},
   "outputs": [
    {
     "data": {
      "text/html": [
       "<div>\n",
       "<style scoped>\n",
       "    .dataframe tbody tr th:only-of-type {\n",
       "        vertical-align: middle;\n",
       "    }\n",
       "\n",
       "    .dataframe tbody tr th {\n",
       "        vertical-align: top;\n",
       "    }\n",
       "\n",
       "    .dataframe thead th {\n",
       "        text-align: right;\n",
       "    }\n",
       "</style>\n",
       "<table border=\"1\" class=\"dataframe\">\n",
       "  <thead>\n",
       "    <tr style=\"text-align: right;\">\n",
       "      <th></th>\n",
       "      <th>location</th>\n",
       "      <th>country</th>\n",
       "      <th>gender</th>\n",
       "      <th>age</th>\n",
       "      <th>vis_wuhan</th>\n",
       "      <th>from_wuhan</th>\n",
       "      <th>symptom1</th>\n",
       "      <th>symptom2</th>\n",
       "      <th>symptom3</th>\n",
       "      <th>symptom4</th>\n",
       "      <th>symptom5</th>\n",
       "      <th>symptom6</th>\n",
       "      <th>diff_sym_hos</th>\n",
       "      <th>result</th>\n",
       "    </tr>\n",
       "  </thead>\n",
       "  <tbody>\n",
       "    <tr>\n",
       "      <th>count</th>\n",
       "      <td>863.000000</td>\n",
       "      <td>863.000000</td>\n",
       "      <td>863.000000</td>\n",
       "      <td>863.000000</td>\n",
       "      <td>863.000000</td>\n",
       "      <td>863.000000</td>\n",
       "      <td>863.00000</td>\n",
       "      <td>863.000000</td>\n",
       "      <td>863.000000</td>\n",
       "      <td>863.000000</td>\n",
       "      <td>863.000000</td>\n",
       "      <td>863.000000</td>\n",
       "      <td>863.000000</td>\n",
       "      <td>863.000000</td>\n",
       "    </tr>\n",
       "    <tr>\n",
       "      <th>mean</th>\n",
       "      <td>76.645423</td>\n",
       "      <td>16.995365</td>\n",
       "      <td>0.849363</td>\n",
       "      <td>49.400000</td>\n",
       "      <td>0.181924</td>\n",
       "      <td>0.107764</td>\n",
       "      <td>12.13905</td>\n",
       "      <td>28.002317</td>\n",
       "      <td>18.298957</td>\n",
       "      <td>11.840093</td>\n",
       "      <td>2.993048</td>\n",
       "      <td>0.998841</td>\n",
       "      <td>0.995365</td>\n",
       "      <td>0.125145</td>\n",
       "    </tr>\n",
       "    <tr>\n",
       "      <th>std</th>\n",
       "      <td>39.200264</td>\n",
       "      <td>7.809951</td>\n",
       "      <td>0.726062</td>\n",
       "      <td>15.079203</td>\n",
       "      <td>0.386005</td>\n",
       "      <td>0.310261</td>\n",
       "      <td>3.99787</td>\n",
       "      <td>7.473231</td>\n",
       "      <td>2.864064</td>\n",
       "      <td>1.183771</td>\n",
       "      <td>0.127251</td>\n",
       "      <td>0.034040</td>\n",
       "      <td>2.358767</td>\n",
       "      <td>0.331075</td>\n",
       "    </tr>\n",
       "    <tr>\n",
       "      <th>min</th>\n",
       "      <td>0.000000</td>\n",
       "      <td>0.000000</td>\n",
       "      <td>0.000000</td>\n",
       "      <td>2.000000</td>\n",
       "      <td>0.000000</td>\n",
       "      <td>0.000000</td>\n",
       "      <td>0.00000</td>\n",
       "      <td>0.000000</td>\n",
       "      <td>0.000000</td>\n",
       "      <td>0.000000</td>\n",
       "      <td>0.000000</td>\n",
       "      <td>0.000000</td>\n",
       "      <td>-5.000000</td>\n",
       "      <td>0.000000</td>\n",
       "    </tr>\n",
       "    <tr>\n",
       "      <th>25%</th>\n",
       "      <td>45.000000</td>\n",
       "      <td>11.000000</td>\n",
       "      <td>0.000000</td>\n",
       "      <td>40.000000</td>\n",
       "      <td>0.000000</td>\n",
       "      <td>0.000000</td>\n",
       "      <td>14.00000</td>\n",
       "      <td>31.000000</td>\n",
       "      <td>19.000000</td>\n",
       "      <td>12.000000</td>\n",
       "      <td>3.000000</td>\n",
       "      <td>1.000000</td>\n",
       "      <td>0.000000</td>\n",
       "      <td>0.000000</td>\n",
       "    </tr>\n",
       "    <tr>\n",
       "      <th>50%</th>\n",
       "      <td>87.000000</td>\n",
       "      <td>18.000000</td>\n",
       "      <td>1.000000</td>\n",
       "      <td>49.400000</td>\n",
       "      <td>0.000000</td>\n",
       "      <td>0.000000</td>\n",
       "      <td>14.00000</td>\n",
       "      <td>31.000000</td>\n",
       "      <td>19.000000</td>\n",
       "      <td>12.000000</td>\n",
       "      <td>3.000000</td>\n",
       "      <td>1.000000</td>\n",
       "      <td>0.000000</td>\n",
       "      <td>0.000000</td>\n",
       "    </tr>\n",
       "    <tr>\n",
       "      <th>75%</th>\n",
       "      <td>110.000000</td>\n",
       "      <td>24.000000</td>\n",
       "      <td>1.000000</td>\n",
       "      <td>57.000000</td>\n",
       "      <td>0.000000</td>\n",
       "      <td>0.000000</td>\n",
       "      <td>14.00000</td>\n",
       "      <td>31.000000</td>\n",
       "      <td>19.000000</td>\n",
       "      <td>12.000000</td>\n",
       "      <td>3.000000</td>\n",
       "      <td>1.000000</td>\n",
       "      <td>1.000000</td>\n",
       "      <td>0.000000</td>\n",
       "    </tr>\n",
       "    <tr>\n",
       "      <th>max</th>\n",
       "      <td>138.000000</td>\n",
       "      <td>33.000000</td>\n",
       "      <td>2.000000</td>\n",
       "      <td>96.000000</td>\n",
       "      <td>1.000000</td>\n",
       "      <td>1.000000</td>\n",
       "      <td>24.00000</td>\n",
       "      <td>31.000000</td>\n",
       "      <td>19.000000</td>\n",
       "      <td>12.000000</td>\n",
       "      <td>3.000000</td>\n",
       "      <td>1.000000</td>\n",
       "      <td>15.000000</td>\n",
       "      <td>1.000000</td>\n",
       "    </tr>\n",
       "  </tbody>\n",
       "</table>\n",
       "</div>"
      ],
      "text/plain": [
       "         location     country      gender         age   vis_wuhan  from_wuhan  \\\n",
       "count  863.000000  863.000000  863.000000  863.000000  863.000000  863.000000   \n",
       "mean    76.645423   16.995365    0.849363   49.400000    0.181924    0.107764   \n",
       "std     39.200264    7.809951    0.726062   15.079203    0.386005    0.310261   \n",
       "min      0.000000    0.000000    0.000000    2.000000    0.000000    0.000000   \n",
       "25%     45.000000   11.000000    0.000000   40.000000    0.000000    0.000000   \n",
       "50%     87.000000   18.000000    1.000000   49.400000    0.000000    0.000000   \n",
       "75%    110.000000   24.000000    1.000000   57.000000    0.000000    0.000000   \n",
       "max    138.000000   33.000000    2.000000   96.000000    1.000000    1.000000   \n",
       "\n",
       "        symptom1    symptom2    symptom3    symptom4    symptom5    symptom6  \\\n",
       "count  863.00000  863.000000  863.000000  863.000000  863.000000  863.000000   \n",
       "mean    12.13905   28.002317   18.298957   11.840093    2.993048    0.998841   \n",
       "std      3.99787    7.473231    2.864064    1.183771    0.127251    0.034040   \n",
       "min      0.00000    0.000000    0.000000    0.000000    0.000000    0.000000   \n",
       "25%     14.00000   31.000000   19.000000   12.000000    3.000000    1.000000   \n",
       "50%     14.00000   31.000000   19.000000   12.000000    3.000000    1.000000   \n",
       "75%     14.00000   31.000000   19.000000   12.000000    3.000000    1.000000   \n",
       "max     24.00000   31.000000   19.000000   12.000000    3.000000    1.000000   \n",
       "\n",
       "       diff_sym_hos      result  \n",
       "count    863.000000  863.000000  \n",
       "mean       0.995365    0.125145  \n",
       "std        2.358767    0.331075  \n",
       "min       -5.000000    0.000000  \n",
       "25%        0.000000    0.000000  \n",
       "50%        0.000000    0.000000  \n",
       "75%        1.000000    0.000000  \n",
       "max       15.000000    1.000000  "
      ]
     },
     "execution_count": 91,
     "metadata": {},
     "output_type": "execute_result"
    }
   ],
   "source": [
    "# concise summary of the data\n",
    "df.describe()"
   ]
  },
  {
   "cell_type": "code",
   "execution_count": 92,
   "id": "3680195f",
   "metadata": {},
   "outputs": [
    {
     "data": {
      "text/plain": [
       "location        0\n",
       "country         0\n",
       "gender          0\n",
       "age             0\n",
       "vis_wuhan       0\n",
       "from_wuhan      0\n",
       "symptom1        0\n",
       "symptom2        0\n",
       "symptom3        0\n",
       "symptom4        0\n",
       "symptom5        0\n",
       "symptom6        0\n",
       "diff_sym_hos    0\n",
       "result          0\n",
       "dtype: int64"
      ]
     },
     "execution_count": 92,
     "metadata": {},
     "output_type": "execute_result"
    }
   ],
   "source": [
    "# find if missing values is present\n",
    "df.isnull().sum()"
   ]
  },
  {
   "cell_type": "code",
   "execution_count": 93,
   "id": "2c2d5796",
   "metadata": {},
   "outputs": [
    {
     "data": {
      "image/png": "[encoded data removed]",
      "text/plain": [
       "<Figure size 432x288 with 1 Axes>"
      ]
     },
     "metadata": {
      "needs_background": "light"
     },
     "output_type": "display_data"
    }
   ],
   "source": [
    "features = df.drop(columns=['result'])\n",
    "value = df['result']\n",
    "importances = mutual_info_classif(features , value)\n",
    "feat_importances = pd.Series(importances, df.columns[0:len(df.columns)-1])\n",
    "feat_importances.plot(kind='barh', color = 'blue')\n",
    "plt.show()"
   ]
  },
  {
   "cell_type": "code",
   "execution_count": 94,
   "id": "b7cb3f60",
   "metadata": {},
   "outputs": [
    {
     "data": {
      "text/plain": [
       "<AxesSubplot:xlabel='result', ylabel='count'>"
      ]
     },
     "execution_count": 94,
     "metadata": {},
     "output_type": "execute_result"
    },
    {
     "data": {
      "image/png": "[encoded data removed]",
      "text/plain": [
       "<Figure size 432x288 with 1 Axes>"
      ]
     },
     "metadata": {
      "needs_background": "light"
     },
     "output_type": "display_data"
    }
   ],
   "source": [
    "# get the distribution of the target variable\n",
    "sns.countplot(x=\"result\", data = df)"
   ]
  },
  {
   "cell_type": "markdown",
   "id": "4b6996df",
   "metadata": {},
   "source": [
    "#### The result show that te number of people that recovered is much greater than the people that died"
   ]
  },
  {
   "cell_type": "code",
   "execution_count": 95,
   "id": "f9d6f7eb",
   "metadata": {},
   "outputs": [
    {
     "data": {
      "text/plain": [
       "<AxesSubplot:xlabel='age', ylabel='Count'>"
      ]
     },
     "execution_count": 95,
     "metadata": {},
     "output_type": "execute_result"
    },
    {
     "data": {
      "image/png": "[encoded data removed]",
      "text/plain": [
       "<Figure size 720x288 with 1 Axes>"
      ]
     },
     "metadata": {
      "needs_background": "light"
     },
     "output_type": "display_data"
    }
   ],
   "source": [
    "#Plot count of people infected with the age\n",
    "f = plt.figure(figsize=(10,4))\n",
    "f.add_subplot(1,2,1)\n",
    "sns.histplot(df['age'])"
   ]
  },
  {
   "cell_type": "markdown",
   "id": "9242bc15",
   "metadata": {},
   "source": [
    "#### People between the age fo 40 to 60 is the most people infected with corona virus"
   ]
  },
  {
   "cell_type": "code",
   "execution_count": 96,
   "id": "8fa4b642",
   "metadata": {},
   "outputs": [],
   "source": [
    "#one hot encoding data frame\n",
    "one_hot_encoded_data = pd.get_dummies(df, columns = ['location', 'country', 'gender', \n",
    "                                                     'symptom1','symptom2','symptom3','symptom4',\n",
    "                                                     'symptom5'])\n",
    "new_df = one_hot_encoded_data"
   ]
  },
  {
   "cell_type": "markdown",
   "id": "66f4871c",
   "metadata": {},
   "source": [
    "# Modelling with Naive Bayes"
   ]
  },
  {
   "cell_type": "code",
   "execution_count": 97,
   "id": "6941e759",
   "metadata": {},
   "outputs": [],
   "source": [
    "#Import libraries\n",
    "from sklearn.model_selection import train_test_split\n",
    "from sklearn.naive_bayes import GaussianNB\n",
    "from sklearn.model_selection import GridSearchCV\n",
    "from sklearn.metrics import precision_score, recall_score, f1_score, accuracy_score \n",
    "from sklearn import metrics\n",
    "from sklearn.metrics import accuracy_score\n",
    "from sklearn.metrics import classification_report, confusion_matrix\n",
    "from sklearn.metrics import roc_auc_score\n",
    "from sklearn.metrics import roc_curve"
   ]
  },
  {
   "cell_type": "code",
   "execution_count": 98,
   "id": "c21a6368",
   "metadata": {},
   "outputs": [
    {
     "name": "stdout",
     "output_type": "stream",
     "text": [
      "Training set shape:  (604, 275) (604,)\n",
      "Testing set shape:  (259, 275) (259,)\n"
     ]
    }
   ],
   "source": [
    "#Split Data into training and testing set\n",
    "xdat = new_df.drop(columns=['result'])\n",
    "ydat = new_df['result']\n",
    "xtr,xts,ytr,yts = train_test_split(xdat, ydat, test_size=0.3, random_state = 0)\n",
    "print('Training set shape: ', xtr.shape, ytr.shape)\n",
    "print('Testing set shape: ', xts.shape, yts.shape)"
   ]
  },
  {
   "cell_type": "code",
   "execution_count": 99,
   "id": "78f51eeb",
   "metadata": {},
   "outputs": [
    {
     "name": "stdout",
     "output_type": "stream",
     "text": [
      "Accuracy score: 0.5019\n"
     ]
    }
   ],
   "source": [
    "# Initialize classifier:\n",
    "nb = GaussianNB()\n",
    "# fit the model\n",
    "nb.fit(xtr, ytr)\n",
    "# Predict data with classifier: \n",
    "pred_y = nb.predict(xts)\n",
    "#Print accuracy score\n",
    "print('Accuracy score: {0:0.4f}'. format(accuracy_score(yts, pred_y)))"
   ]
  },
  {
   "cell_type": "markdown",
   "id": "16a0e79d",
   "metadata": {},
   "source": [
    "### Accuracy score is low and not valid so we need to tuning"
   ]
  },
  {
   "cell_type": "code",
   "execution_count": 100,
   "id": "d5c9ef1c",
   "metadata": {},
   "outputs": [
    {
     "name": "stdout",
     "output_type": "stream",
     "text": [
      "Fitting 10 folds for each of 420 candidates, totalling 4200 fits\n"
     ]
    },
    {
     "data": {
      "text/plain": [
       "GaussianNB(priors=[0.8, 0.2], var_smoothing=0.03611538988740117)"
      ]
     },
     "execution_count": 100,
     "metadata": {},
     "output_type": "execute_result"
    }
   ],
   "source": [
    "options = [\n",
    "            {'var_smoothing': np.logspace(-25,0,105),\n",
    "             'priors':[[0.4,0.6],[0.6,0.4],[0.7,0.3],[0.8,0.2]]\n",
    "            }\n",
    "          ]\n",
    "\n",
    "gg = GridSearchCV(GaussianNB(), param_grid = options, cv = 10, verbose=True, n_jobs=-1)\n",
    "tuning = gg.fit(xtr,ytr)\n",
    "tuning.best_estimator_"
   ]
  },
  {
   "cell_type": "code",
   "execution_count": 101,
   "id": "246df162",
   "metadata": {},
   "outputs": [
    {
     "name": "stdout",
     "output_type": "stream",
     "text": [
      "Accuracy score: 0.9035\n"
     ]
    }
   ],
   "source": [
    "#Classifier:\n",
    "gnb = GaussianNB(priors=[0.8, 0.2], var_smoothing=0.03611538988740117)\n",
    "# fit the model\n",
    "gnb.fit(xtr, ytr)\n",
    "# Predict data with classifier: \n",
    "pred_y = gnb.predict(xts)\n",
    "#Print accuracy score\n",
    "print('Accuracy score: {0:0.4f}'. format(accuracy_score(yts, pred_y)))"
   ]
  },
  {
   "cell_type": "code",
   "execution_count": 102,
   "id": "f08af618",
   "metadata": {},
   "outputs": [
    {
     "name": "stdout",
     "output_type": "stream",
     "text": [
      "Precision: 0.688\n",
      "Recall: 0.595\n",
      "F1 Score: 0.638\n",
      "roc_auc_score: 0.917 \n"
     ]
    }
   ],
   "source": [
    "#Performance Classifiers\n",
    "yts_score=gnb.predict_proba(xts)\n",
    "print('Precision: %.3f' % precision_score(yts, pred_y))\n",
    "print('Recall: %.3f' % recall_score(yts, pred_y))\n",
    "print('F1 Score: %.3f' % f1_score(yts, pred_y))\n",
    "print('roc_auc_score: %.3f '% roc_auc_score(yts, yts_score[:,1]))"
   ]
  },
  {
   "cell_type": "code",
   "execution_count": 103,
   "id": "e79861f9",
   "metadata": {},
   "outputs": [
    {
     "name": "stdout",
     "output_type": "stream",
     "text": [
      "              precision    recall  f1-score   support\n",
      "\n",
      "           0       0.93      0.95      0.94       222\n",
      "           1       0.69      0.59      0.64        37\n",
      "\n",
      "    accuracy                           0.90       259\n",
      "   macro avg       0.81      0.77      0.79       259\n",
      "weighted avg       0.90      0.90      0.90       259\n",
      "\n",
      "roc_auc_score: 0.917 \n"
     ]
    }
   ],
   "source": [
    "print(classification_report(yts, pred_y))\n",
    "print('roc_auc_score: %.3f '% roc_auc_score(yts, yts_score[:,1]))"
   ]
  },
  {
   "cell_type": "code",
   "execution_count": 104,
   "id": "5649b515",
   "metadata": {},
   "outputs": [
    {
     "data": {
      "image/png": "[encoded data removed]",
      "text/plain": [
       "<Figure size 720x288 with 1 Axes>"
      ]
     },
     "metadata": {
      "needs_background": "light"
     },
     "output_type": "display_data"
    }
   ],
   "source": [
    "# plot ROC Curve\n",
    "fpr, tpr, thresholds = roc_curve(yts, yts_score[:,1])\n",
    "plt.figure(figsize=(10,4))\n",
    "plt.plot(fpr, tpr, linewidth=2)\n",
    "plt.plot([0,1], [0,1], 'k--' )\n",
    "plt.rcParams['font.size'] = 12\n",
    "plt.title('ROC curve for Gaussian Naive Bayes Classifier')\n",
    "plt.xlabel('False Positive Rate')\n",
    "plt.ylabel('True Positive Rate')\n",
    "plt.show()"
   ]
  },
  {
   "cell_type": "code",
   "execution_count": 105,
   "id": "3cca8b81",
   "metadata": {},
   "outputs": [
    {
     "data": {
      "image/png": "[encoded data removed]",
      "text/plain": [
       "<Figure size 720x288 with 1 Axes>"
      ]
     },
     "metadata": {
      "needs_background": "light"
     },
     "output_type": "display_data"
    }
   ],
   "source": [
    "#Plot Confusion Matrix\n",
    "cm = confusion_matrix(yts, pred_y)\n",
    "fig, ax = plt.subplots(figsize=(10, 4))\n",
    "ax.matshow(cm, cmap=plt.cm.Oranges, alpha=0.3)\n",
    "for i in range(cm.shape[0]):\n",
    "    for j in range(cm.shape[1]):\n",
    "        ax.text(x=j, y=i,s=cm[i, j], va='center', ha='center', size='x-large')\n",
    "plt.xlabel('Predictions', fontsize=14)\n",
    "plt.ylabel('Actuals', fontsize=14)\n",
    "plt.title('Confusion Matrix', fontsize=14)\n",
    "plt.show()"
   ]
  },
  {
   "cell_type": "markdown",
   "id": "0f05d0a5",
   "metadata": {},
   "source": [
    "#### True Positives = 213, True Negatives = 22, False Positives = 9, False Negatives = 15."
   ]
  },
  {
   "cell_type": "code",
   "execution_count": 106,
   "id": "410b6e60",
   "metadata": {},
   "outputs": [],
   "source": [
    "#Inntialize TP, TN, FP, AND FN\n",
    "TP = cm[0,0]\n",
    "TN = cm[1,1]\n",
    "FP = cm[0,1]\n",
    "FN = cm[1,0]"
   ]
  },
  {
   "cell_type": "code",
   "execution_count": 107,
   "id": "68042139",
   "metadata": {},
   "outputs": [
    {
     "name": "stdout",
     "output_type": "stream",
     "text": [
      "Classification accuracy : 0.9035\n",
      "Classification error : 0.0965\n",
      "Precision : 0.9550\n",
      "Recall or Sensitivity : 0.9339\n",
      "True Positive Rate : 0.9339\n",
      "False Positive Rate : 0.3125\n",
      "Specificity : 0.6875\n"
     ]
    }
   ],
   "source": [
    "#Calculating Accuracy of the model using the confusion matrix\n",
    "classify_accuracy = (TP + TN) / float(TP + TN + FP + FN)\n",
    "classify_error = (FP + FN) / float(TP + TN + FP + FN)\n",
    "precision = TP / float(TP + FP)\n",
    "recall = TP / float(TP + FN)\n",
    "true_positive_rate = TP / float(TP + FN)\n",
    "false_positive_rate = FP / float(FP + TN)\n",
    "specificity = TN / (TN + FP)\n",
    "# print classification accuracy, \n",
    "print('Classification accuracy : {0:0.4f}'.format(classify_accuracy))\n",
    "print('Classification error : {0:0.4f}'.format(classify_error))\n",
    "print('Precision : {0:0.4f}'.format(precision))\n",
    "print('Recall or Sensitivity : {0:0.4f}'.format(recall))\n",
    "print('True Positive Rate : {0:0.4f}'.format(true_positive_rate))\n",
    "print('False Positive Rate : {0:0.4f}'.format(false_positive_rate))\n",
    "print('Specificity : {0:0.4f}'.format(specificity))"
   ]
  }
 ],
 "metadata": {
  "kernelspec": {
   "display_name": "Python 3 (ipykernel)",
   "language": "python",
   "name": "python3"
  },
  "language_info": {
   "codemirror_mode": {
    "name": "ipython",
    "version": 3
   },
   "file_extension": ".py",
   "mimetype": "text/x-python",
   "name": "python",
   "nbconvert_exporter": "python",
   "pygments_lexer": "ipython3",
   "version": "3.8.12"
  }
 },
 "nbformat": 4,
 "nbformat_minor": 5
}
